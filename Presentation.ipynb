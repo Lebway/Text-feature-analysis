{
 "cells": [
  {
   "cell_type": "markdown",
   "metadata": {},
   "source": [
    "# Text Feature Analyse"
   ]
  },
  {
   "cell_type": "markdown",
   "metadata": {},
   "source": [
    "## Hypothesis\n",
    "<font size=4><b> The literary features of a book affect its rating score.</b> </font>"
   ]
  },
  {
   "cell_type": "markdown",
   "metadata": {},
   "source": [
    "## Features\n",
    "+ **Vocabulary Features:**\n",
    "    + Count of the word\n",
    "    + Adjectives Ratio\n",
    "    + Adverbs Ratio\n",
    "    + Foreign Word Ratio\n",
    "    + Verb Ratio \n",
    "    + Stop Word Ratio\n",
    "    + Functional Word Ratio\n",
    "    + Word appear only Once Ratio\n",
    "+ **Vocabulary Richness Features:**\n",
    "    + Type Token Ratio\n",
    "    + Shannon Entropy\n",
    "    + Yules Characteristic\n",
    "+ **Sentence Features:**\n",
    "    + Average Sentence Lenth by word\n",
    "    + Average Sentence Lenth by char\n",
    "    + Exclamatory Sentence Ratio\n",
    "    + Interrogative Sentence Ratio\n",
    "    + Quote Sentence Ratio\n",
    "+ **Sentiment Features:**\n",
    "    + Sentiment Score Mean (by sentence)\n",
    "    + Sentiment Score Variance (by sentence)\n",
    "    + Ending Sentiment Score Mean (last 1000 words)\n",
    "+ **Readability Scores:**\n",
    "    + Flesch Reading Ease $\\ \\qquad\\qquad( = 206.85 - 1.015(\\frac{total\\_words} {total\\_sentences}) - 84.6(\\frac{total\\_syllables}{total\\_words}))$\n",
    "    + Flesch–Kincaid Grade Level $\\qquad( = 0.39(\\frac{total\\_words}{total\\_sentences} + 11.8(\\frac{total\\_syllables}{total\\_wrods}) - 15.59)$\n",
    "    + Dale Chall Readability $\\qquad\\qquad( = 0.1579(\\frac{diffcult\\_words}{total\\_words} \\times 100) + 0.0496(\\frac{total\\_words} {total\\_sentences}) $\n",
    "    + Average Word Syllable"
   ]
  },
  {
   "cell_type": "markdown",
   "metadata": {},
   "source": [
    "## Dataset\n",
    "\n",
    "|  Subject   | Num  |\n",
    "|  :-------------------- | ----  |\n",
    "| Science fiction  | 1295 |\n",
    "| Detective and mystery stories  | 517 |\n",
    "| Love stories  | 534 |\n",
    "| Poetry  | 817 |\n",
    "| Total | 3163 |"
   ]
  },
  {
   "cell_type": "markdown",
   "metadata": {},
   "source": [
    "## Model\n",
    "| Layer (type)| Output Shape | Param |\n",
    "| :----------------------  | :----------------  | :--------  |\n",
    "| dense_1 (Dense) | (None, 23, 32) | 64 |  \n",
    "| dense_2 (Dense) | (None, 23, 64) | 2112 |     \n",
    "| dense_3 (Dense) | (None, 23, 32) | 2080 |  \n",
    "| dense_4 (Dense) | (None, 23, 16) | 528 |   \n",
    "| flatten_1 (Flatten) | (None, 368) | 0 |      \n",
    "| dense_5 (Dense) | (None, 8) | 2952 |      \n",
    "| dense_6 (Dense) | (None, 1) | 9 |         \n",
    "**Total params**: 7745\n"
   ]
  },
  {
   "cell_type": "markdown",
   "metadata": {},
   "source": [
    "## Train and Test\n",
    "**95%** of the Dataset to train the model                                                               \n",
    "**5%**  of the Dataset for the test\n",
    "\n",
    "<center> <font color=#0000FF size=4> Predict </font> VS <font color=#FFA500 size=4> True </font> <center>"
   ]
  },
  {
   "cell_type": "markdown",
   "metadata": {},
   "source": [
    "<img src=\"https://i.ibb.co/jypJ26R/9-this.png\" width=800>"
   ]
  },
  {
   "cell_type": "code",
   "execution_count": 47,
   "metadata": {},
   "outputs": [
    {
     "name": "stdout",
     "output_type": "stream",
     "text": [
      "Your predict rating now is 3.75.\n",
      "You might not do well in stop_word_ratio, you may decline it, then the rating can reach 3.82.\n"
     ]
    }
   ],
   "source": [
    "gardenParty = requests.get(\"https://github.com/JonathanReeve/course-computational-literary-analysis/blob/master/Texts/garden-party.md\").text\n",
    "predictNdValue(gardenParty)"
   ]
  },
  {
   "cell_type": "markdown",
   "metadata": {},
   "source": [
    "## PCA\n",
    "\n",
    "<center><font size=5>Using the extracted features for PCA analysis between <font color=#FF0000 size=5> Novel </font> and <font color=#0000FF size=5> Poetry </font> <center>\n",
    "\n",
    "<img src=\"https://i.ibb.co/xGQkGmN/5.png0\" width=500>"
   ]
  }
 ],
 "metadata": {
  "kernelspec": {
   "display_name": "Python 3",
   "language": "python",
   "name": "python3"
  },
  "language_info": {
   "codemirror_mode": {
    "name": "ipython",
    "version": 3
   },
   "file_extension": ".py",
   "mimetype": "text/x-python",
   "name": "python",
   "nbconvert_exporter": "python",
   "pygments_lexer": "ipython3",
   "version": "3.6.8"
  }
 },
 "nbformat": 4,
 "nbformat_minor": 2
}
